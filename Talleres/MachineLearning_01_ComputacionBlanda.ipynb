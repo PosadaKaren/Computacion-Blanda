{
  "nbformat": 4,
  "nbformat_minor": 0,
  "metadata": {
    "colab": {
      "name": "MachineLearning-01-ComputacionBlanda.ipynb",
      "provenance": []
    },
    "kernelspec": {
      "name": "python3",
      "display_name": "Python 3"
    }
  },
  "cells": [
    {
      "cell_type": "code",
      "metadata": {
        "id": "JBKmSjgBTX8x",
        "colab_type": "code",
        "colab": {
          "base_uri": "https://localhost:8080/",
          "height": 131
        },
        "outputId": "76f0a280-1d80-435f-b0a7-8137ce15ae27"
      },
      "source": [
        "# Se importa la librería numpy\n",
        "\n",
        "import numpy as np\n",
        "\n",
        "# Se crea una array con 6 elementos\n",
        "a = np.arange(6)\n",
        "# Se imprime en pantalla el contenido del array a\n",
        "print('Arreglo a =', a, '\\n')\n",
        "\n",
        "# Se muestra el tipo de los elementos del array\n",
        "print('Tipo de a =', a.dtype, '\\n')\n",
        "\n",
        "# Se calcula la dimensión del array a, en este caso dimensión = 1 (vector)\n",
        "print('Dimensión de a =', a.ndim, '\\n')\n",
        "\n",
        "# Se calcula el número de elementos del array a\n",
        "# No olvidar que existe un elemento con índice 0\n",
        "print('Número de elementos de a =', a.shape)"
      ],
      "execution_count": 1,
      "outputs": [
        {
          "output_type": "stream",
          "text": [
            "Arreglo a = [0 1 2 3 4 5] \n",
            "\n",
            "Tipo de a = int64 \n",
            "\n",
            "Dimensión de a = 1 \n",
            "\n",
            "Número de elementos de a = (6,)\n"
          ],
          "name": "stdout"
        }
      ]
    },
    {
      "cell_type": "code",
      "metadata": {
        "id": "jChpEgnJTZWH",
        "colab_type": "code",
        "colab": {
          "base_uri": "https://localhost:8080/",
          "height": 50
        },
        "outputId": "4bc36c58-9ab4-4280-9a17-c906f4015d18"
      },
      "source": [
        "# Creando un arreglo multidimensional\n",
        "m = np.array([np.arange(2), np.arange(2)])\n",
        "print(m)"
      ],
      "execution_count": 2,
      "outputs": [
        {
          "output_type": "stream",
          "text": [
            "[[0 1]\n",
            " [0 1]]\n"
          ],
          "name": "stdout"
        }
      ]
    },
    {
      "cell_type": "code",
      "metadata": {
        "id": "FzDHy25-TdKX",
        "colab_type": "code",
        "colab": {
          "base_uri": "https://localhost:8080/",
          "height": 196
        },
        "outputId": "c01f58e7-113c-4e7f-d471-88b9b66e9fde"
      },
      "source": [
        "# Seleccionando elementos de un array\n",
        "\n",
        "a = np.array([[1,2], [3,4]])\n",
        "print('a =\\n', a, '\\n')\n",
        "# Elementos individuales\n",
        "print('a[0,0] =', a[0,0], '\\n')\n",
        "print('a[0,1] =', a[0,1], '\\n')\n",
        "print('a[1,0] =', a[1,0], '\\n')\n",
        "print('a[1,1] =', a[1,1])"
      ],
      "execution_count": 3,
      "outputs": [
        {
          "output_type": "stream",
          "text": [
            "a =\n",
            " [[1 2]\n",
            " [3 4]] \n",
            "\n",
            "a[0,0] = 1 \n",
            "\n",
            "a[0,1] = 2 \n",
            "\n",
            "a[1,0] = 3 \n",
            "\n",
            "a[1,1] = 4\n"
          ],
          "name": "stdout"
        }
      ]
    },
    {
      "cell_type": "code",
      "metadata": {
        "id": "15CT9kIiTkrP",
        "colab_type": "code",
        "colab": {
          "base_uri": "https://localhost:8080/",
          "height": 98
        },
        "outputId": "50fc9f8e-6658-439c-dc7d-9aef4821f370"
      },
      "source": [
        "# Crea un array con 9 elementos, desde 0 hasta 8\n",
        "\n",
        "a = np.arange(9)\n",
        "print('a =', a, '\\n')\n",
        "\n",
        "# Muestra los elementos desde 0 hasta 9. Imprime desde 0 hasta 8\n",
        "print('a[0:9] = ', a[0:9], '\\n')\n",
        "\n",
        "# Muestra desde 3 hasta 7. Imprime desde 3 hasta 6\n",
        "print('a[3,7] =', a[3:7])"
      ],
      "execution_count": 4,
      "outputs": [
        {
          "output_type": "stream",
          "text": [
            "a = [0 1 2 3 4 5 6 7 8] \n",
            "\n",
            "a[0:9] =  [0 1 2 3 4 5 6 7 8] \n",
            "\n",
            "a[3,7] = [3 4 5 6]\n"
          ],
          "name": "stdout"
        }
      ]
    },
    {
      "cell_type": "code",
      "metadata": {
        "id": "Q4DAgmZVTmk3",
        "colab_type": "code",
        "colab": {
          "base_uri": "https://localhost:8080/",
          "height": 131
        },
        "outputId": "520ca456-bbb9-4e49-9ebd-fb84f95fcc0a"
      },
      "source": [
        "# Mostrando todos los elementos, desde el 0 hasta el 8, de uno en uno\n",
        "\n",
        "print('a[0:9:1] =', a[0:9:1], '\\n')\n",
        "\n",
        "# El mismo ejemplo, pero omitiendo el número 0 al principio, el cual no es necesario aquí\n",
        "print('a[:9:1] =', a[:9:1], '\\n')\n",
        "\n",
        "# Mostrando los números, de dos en dos\n",
        "print('a[0:9:2] =', a[0:9:2], '\\n')\n",
        "\n",
        "# Mostrando los números, de tres en tres\n",
        "print('a[0:9:3] =', a[0:9:3])"
      ],
      "execution_count": 5,
      "outputs": [
        {
          "output_type": "stream",
          "text": [
            "a[0:9:1] = [0 1 2 3 4 5 6 7 8] \n",
            "\n",
            "a[:9:1] = [0 1 2 3 4 5 6 7 8] \n",
            "\n",
            "a[0:9:2] = [0 2 4 6 8] \n",
            "\n",
            "a[0:9:3] = [0 3 6]\n"
          ],
          "name": "stdout"
        }
      ]
    },
    {
      "cell_type": "code",
      "metadata": {
        "id": "ooMKfQp2ToS_",
        "colab_type": "code",
        "colab": {
          "base_uri": "https://localhost:8080/",
          "height": 66
        },
        "outputId": "42e27e36-657e-4928-b4ea-a41d6564a946"
      },
      "source": [
        "# Si utilizamos un incremento negativo, el array se muestra en orden inverso\n",
        "\n",
        "# El problema es que no muestra el valor 0\n",
        "print('a[9:0:-1] =', a[9:0:-1], '\\n')\n",
        "\n",
        "# Si se omiten los valores de índice, el resultado es preciso\n",
        "print('a[::-1] =', a[::-1])"
      ],
      "execution_count": 6,
      "outputs": [
        {
          "output_type": "stream",
          "text": [
            "a[9:0:-1] = [8 7 6 5 4 3 2 1] \n",
            "\n",
            "a[::-1] = [8 7 6 5 4 3 2 1 0]\n"
          ],
          "name": "stdout"
        }
      ]
    },
    {
      "cell_type": "code",
      "metadata": {
        "id": "AZhRkFkcTqUa",
        "colab_type": "code",
        "colab": {
          "base_uri": "https://localhost:8080/",
          "height": 147
        },
        "outputId": "4a984259-1224-446a-e5b4-05f767abfddc"
      },
      "source": [
        "# Utilización de arreglos multidimensionales\n",
        "\n",
        "b = np.arange(24).reshape(2,3,4)\n",
        "print('b =\\n', b)\n",
        "# La instrucción reshape genera una matriz con 2 bloques, 3 filas y 4 columnas\n",
        "# El número total de elementos es de 24 (generados por arange)"
      ],
      "execution_count": 7,
      "outputs": [
        {
          "output_type": "stream",
          "text": [
            "b =\n",
            " [[[ 0  1  2  3]\n",
            "  [ 4  5  6  7]\n",
            "  [ 8  9 10 11]]\n",
            "\n",
            " [[12 13 14 15]\n",
            "  [16 17 18 19]\n",
            "  [20 21 22 23]]]\n"
          ],
          "name": "stdout"
        }
      ]
    },
    {
      "cell_type": "code",
      "metadata": {
        "id": "ciLTKD0OTsp7",
        "colab_type": "code",
        "colab": {
          "base_uri": "https://localhost:8080/",
          "height": 98
        },
        "outputId": "0920ddf9-ee93-4762-e80f-622e48797266"
      },
      "source": [
        "# Acceso individual a los elementos del array\n",
        "\n",
        "# Elemento en el bloque 1, fila 2, columna 3\n",
        "print('b[1,2,3] =', b[1,2,3], '\\n')\n",
        "\n",
        "# Elemento en el bloque 0, fila 2, columna 2\n",
        "print('b[0,2,2] =', b[0,2,2], '\\n')\n",
        "\n",
        "# Elemento en el bloque 0, fila 1, columna 1\n",
        "print('b[0,1,1] =', b[0,1,1])"
      ],
      "execution_count": 8,
      "outputs": [
        {
          "output_type": "stream",
          "text": [
            "b[1,2,3] = 23 \n",
            "\n",
            "b[0,2,2] = 10 \n",
            "\n",
            "b[0,1,1] = 5\n"
          ],
          "name": "stdout"
        }
      ]
    },
    {
      "cell_type": "code",
      "metadata": {
        "id": "2vFdz5rLTvmx",
        "colab_type": "code",
        "colab": {
          "base_uri": "https://localhost:8080/",
          "height": 98
        },
        "outputId": "5fae915b-7be3-4837-88d0-234e1b5641c0"
      },
      "source": [
        "# Mostraremos como generalizar una selección\n",
        "\n",
        "# Primero elegimos el componente en la fila 0, columna 0, del bloque 0\n",
        "print('b[0,0,0] =', b[0,0,0], '\\n')\n",
        "\n",
        "# A continuación, elegimos el componente en la fila 0, columna, pero del bloque 1\n",
        "print('b[1,0,0] =', b[1,0,0], '\\n')\n",
        "\n",
        "# Para elegir SIMULTANEAMENTE ambos elementos, lo hacemos utilizando dos puntos\n",
        "print('b[:,0,0] =', b[:,0,0])"
      ],
      "execution_count": 9,
      "outputs": [
        {
          "output_type": "stream",
          "text": [
            "b[0,0,0] = 0 \n",
            "\n",
            "b[1,0,0] = 12 \n",
            "\n",
            "b[:,0,0] = [ 0 12]\n"
          ],
          "name": "stdout"
        }
      ]
    },
    {
      "cell_type": "code",
      "metadata": {
        "id": "_45NZhYPTxzD",
        "colab_type": "code",
        "colab": {
          "base_uri": "https://localhost:8080/",
          "height": 82
        },
        "outputId": "6207ef81-3226-4761-be95-05f47c5c3ae1"
      },
      "source": [
        "# Si escribimos: b[0]\n",
        "\n",
        "# Habremos elegido el primer bloque, pero habríamos omitido las filas y las columnas\n",
        "# En tal caso, numpy toma todas las filas y columnas del bloque 0\n",
        "print('b[0] =\\n', b[0])"
      ],
      "execution_count": 10,
      "outputs": [
        {
          "output_type": "stream",
          "text": [
            "b[0] =\n",
            " [[ 0  1  2  3]\n",
            " [ 4  5  6  7]\n",
            " [ 8  9 10 11]]\n"
          ],
          "name": "stdout"
        }
      ]
    },
    {
      "cell_type": "code",
      "metadata": {
        "id": "jmk1azGMT0Ng",
        "colab_type": "code",
        "colab": {
          "base_uri": "https://localhost:8080/",
          "height": 82
        },
        "outputId": "8e5af6b7-d7f8-4ddf-b06d-9ccaf82efedd"
      },
      "source": [
        "# Otra forma de representar b[0] es: b[0, :, :]\n",
        "\n",
        "# Los dos puntos sin ningún valor, indican que se utilizarán todos los términos disponibles\n",
        "# En este caso, todas las filas y todas las columnas\n",
        "print('b[0,:,:] =\\n', b[0,:,:])"
      ],
      "execution_count": 11,
      "outputs": [
        {
          "output_type": "stream",
          "text": [
            "b[0,:,:] =\n",
            " [[ 0  1  2  3]\n",
            " [ 4  5  6  7]\n",
            " [ 8  9 10 11]]\n"
          ],
          "name": "stdout"
        }
      ]
    },
    {
      "cell_type": "code",
      "metadata": {
        "id": "bu_LDjxxT3R_",
        "colab_type": "code",
        "colab": {
          "base_uri": "https://localhost:8080/",
          "height": 82
        },
        "outputId": "997a1545-90af-400e-a2f0-b4e2c60eae83"
      },
      "source": [
        "# Cuando se utiliza la notación de : a derecha o a izquierda, se puede reemplazar por ...\n",
        "# El ejemplo anterior se puede escribir así:\n",
        "print('b[0, ...] =\\n', b[0, ...])"
      ],
      "execution_count": 12,
      "outputs": [
        {
          "output_type": "stream",
          "text": [
            "b[0, ...] =\n",
            " [[ 0  1  2  3]\n",
            " [ 4  5  6  7]\n",
            " [ 8  9 10 11]]\n"
          ],
          "name": "stdout"
        }
      ]
    },
    {
      "cell_type": "code",
      "metadata": {
        "id": "MkTZyTErT5GH",
        "colab_type": "code",
        "colab": {
          "base_uri": "https://localhost:8080/",
          "height": 33
        },
        "outputId": "23e74fa3-4830-4f5c-d654-4132d7ee43f5"
      },
      "source": [
        "# Si queremos la fila 1 en el bloque 0 (sin que importen las columnas), se tiene:\n",
        "print('b[0,1] =', b[0,1])"
      ],
      "execution_count": 13,
      "outputs": [
        {
          "output_type": "stream",
          "text": [
            "b[0,1] = [4 5 6 7]\n"
          ],
          "name": "stdout"
        }
      ]
    },
    {
      "cell_type": "code",
      "metadata": {
        "id": "l064W-U1T9Wx",
        "colab_type": "code",
        "colab": {
          "base_uri": "https://localhost:8080/",
          "height": 66
        },
        "outputId": "96dac30b-9282-4fb1-8ae3-dec03400ff21"
      },
      "source": [
        "# El resultado de una selección puede utilizar luego para un cálculo posterior\n",
        "\n",
        "# Se obtiene la fila 1 del bloque 0 (como en ejemplo anterior)\n",
        "# y se asigna dicha respuesta a la variable z\n",
        "z = b[0,1]\n",
        "print('z =', z, '\\n')\n",
        "\n",
        "# En este caso, la variable z toma el valor: [4 5 6 7]\n",
        "# Si ahora queremos tomar de dicha respuesta los valores de 2 en 2, se tiene:\n",
        "print('z[::2] =', z[::2])"
      ],
      "execution_count": 14,
      "outputs": [
        {
          "output_type": "stream",
          "text": [
            "z = [4 5 6 7] \n",
            "\n",
            "z[::2] = [4 6]\n"
          ],
          "name": "stdout"
        }
      ]
    },
    {
      "cell_type": "code",
      "metadata": {
        "id": "dGBdz6R0T_Vu",
        "colab_type": "code",
        "colab": {
          "base_uri": "https://localhost:8080/",
          "height": 33
        },
        "outputId": "d3576896-b99b-4d6d-9185-098035c51109"
      },
      "source": [
        "# El ejercicio anterior se puede combinar en una expresión única, así:\n",
        "\n",
        "print('b[0,1,::2] =', b[0,1,::2])\n",
        "# Esta es una solución más compacta"
      ],
      "execution_count": 15,
      "outputs": [
        {
          "output_type": "stream",
          "text": [
            "b[0,1,::2] = [4 6]\n"
          ],
          "name": "stdout"
        }
      ]
    },
    {
      "cell_type": "code",
      "metadata": {
        "id": "ipTYEy27UCH1",
        "colab_type": "code",
        "colab": {
          "base_uri": "https://localhost:8080/",
          "height": 261
        },
        "outputId": "28485c2d-6dde-4e16-e8e7-5a5a3e08e2a8"
      },
      "source": [
        "# Imprime todas las columnas, independientemente de los bloques y filas\n",
        "\n",
        "print(b, '\\n')\n",
        "print('b[:,:,1] =\\n', b[:,:,1], '\\n')\n",
        "\n",
        "# Variante de notación (simplificada)\n",
        "print('b[...,1] =\\n', b[...,1])"
      ],
      "execution_count": 16,
      "outputs": [
        {
          "output_type": "stream",
          "text": [
            "[[[ 0  1  2  3]\n",
            "  [ 4  5  6  7]\n",
            "  [ 8  9 10 11]]\n",
            "\n",
            " [[12 13 14 15]\n",
            "  [16 17 18 19]\n",
            "  [20 21 22 23]]] \n",
            "\n",
            "b[:,:,1] =\n",
            " [[ 1  5  9]\n",
            " [13 17 21]] \n",
            "\n",
            "b[...,1] =\n",
            " [[ 1  5  9]\n",
            " [13 17 21]]\n"
          ],
          "name": "stdout"
        }
      ]
    },
    {
      "cell_type": "code",
      "metadata": {
        "id": "X91dP4KjUEsw",
        "colab_type": "code",
        "colab": {
          "base_uri": "https://localhost:8080/",
          "height": 180
        },
        "outputId": "c10d589f-3b11-4128-a7e9-653725e38c67"
      },
      "source": [
        "# Si queremos seleccionar todas las filas 2, independientemente\n",
        "\n",
        "# de los bloques y columnas, se tiene:\n",
        "print(b, '\\n')\n",
        "print('b[:,1] =', b[:,1])"
      ],
      "execution_count": 17,
      "outputs": [
        {
          "output_type": "stream",
          "text": [
            "[[[ 0  1  2  3]\n",
            "  [ 4  5  6  7]\n",
            "  [ 8  9 10 11]]\n",
            "\n",
            " [[12 13 14 15]\n",
            "  [16 17 18 19]\n",
            "  [20 21 22 23]]] \n",
            "\n",
            "b[:,1] = [[ 4  5  6  7]\n",
            " [16 17 18 19]]\n"
          ],
          "name": "stdout"
        }
      ]
    },
    {
      "cell_type": "code",
      "metadata": {
        "id": "KL0q1y2qUKwR",
        "colab_type": "code",
        "colab": {
          "base_uri": "https://localhost:8080/",
          "height": 163
        },
        "outputId": "fcb36129-8f8e-4c10-a050-8efe412731e3"
      },
      "source": [
        "# En el siguiente ejemplo seleccionmos la columna 1 del bloque 0\n",
        "\n",
        "print(b, '\\n')\n",
        "print('b[0,:,1] =', b[0,:,1])"
      ],
      "execution_count": 18,
      "outputs": [
        {
          "output_type": "stream",
          "text": [
            "[[[ 0  1  2  3]\n",
            "  [ 4  5  6  7]\n",
            "  [ 8  9 10 11]]\n",
            "\n",
            " [[12 13 14 15]\n",
            "  [16 17 18 19]\n",
            "  [20 21 22 23]]] \n",
            "\n",
            "b[0,:,1] = [1 5 9]\n"
          ],
          "name": "stdout"
        }
      ]
    },
    {
      "cell_type": "code",
      "metadata": {
        "id": "WeBeWVERUQ5i",
        "colab_type": "code",
        "colab": {
          "base_uri": "https://localhost:8080/",
          "height": 66
        },
        "outputId": "85cc0b47-326a-4bea-f331-3def28de8440"
      },
      "source": [
        "# Si queremos seleccionar la última columna del primer bloque, tenemos:\n",
        "\n",
        "print('b[0,:,-1] =', b[0,:,-1])\n",
        "\n",
        "print('b[0, ::-1, -1] =', b[0, ::-1, -1])\n",
        "\n",
        "# La expresión ::-1 invierte todos los valores que se hubieran seleccionado\n",
        "# Si en lugar de invertir la columna, quisieramos imprimir sus\n",
        "# valores de 2 en 2, tendríamos:\n",
        "print('b[0, ::2, -1] =', b[0, ::2, -1])"
      ],
      "execution_count": 19,
      "outputs": [
        {
          "output_type": "stream",
          "text": [
            "b[0,:,-1] = [ 3  7 11]\n",
            "b[0, ::-1, -1] = [11  7  3]\n",
            "b[0, ::2, -1] = [ 3 11]\n"
          ],
          "name": "stdout"
        }
      ]
    },
    {
      "cell_type": "code",
      "metadata": {
        "id": "dfvEaze7UV7v",
        "colab_type": "code",
        "colab": {
          "base_uri": "https://localhost:8080/",
          "height": 277
        },
        "outputId": "3265b969-bc55-40f1-fd13-16631ae782ee"
      },
      "source": [
        "# El array original\n",
        "\n",
        "print(b, '\\n-----------------------\\n')\n",
        "# Esta instrucción invierte los bloques\n",
        "print(b[::-1])"
      ],
      "execution_count": 20,
      "outputs": [
        {
          "output_type": "stream",
          "text": [
            "[[[ 0  1  2  3]\n",
            "  [ 4  5  6  7]\n",
            "  [ 8  9 10 11]]\n",
            "\n",
            " [[12 13 14 15]\n",
            "  [16 17 18 19]\n",
            "  [20 21 22 23]]] \n",
            "-----------------------\n",
            "\n",
            "[[[12 13 14 15]\n",
            "  [16 17 18 19]\n",
            "  [20 21 22 23]]\n",
            "\n",
            " [[ 0  1  2  3]\n",
            "  [ 4  5  6  7]\n",
            "  [ 8  9 10 11]]]\n"
          ],
          "name": "stdout"
        }
      ]
    },
    {
      "cell_type": "code",
      "metadata": {
        "id": "rwMZ2rLwUX2g",
        "colab_type": "code",
        "colab": {
          "base_uri": "https://localhost:8080/",
          "height": 212
        },
        "outputId": "90c02122-8e64-4932-bc1c-8da8dce31320"
      },
      "source": [
        "# La instrucción: ravel(), de-construye el efecto de la instrucción: reshape\n",
        "\n",
        "# Este es el array b en su estado matricial\n",
        "print('Matriz b =\\n', b, '\\n--------------------------\\n')\n",
        "\n",
        "# Con ravel() se genera un vector a partir de la matriz\n",
        "print('Vector b = \\n', b.ravel())"
      ],
      "execution_count": 21,
      "outputs": [
        {
          "output_type": "stream",
          "text": [
            "Matriz b =\n",
            " [[[ 0  1  2  3]\n",
            "  [ 4  5  6  7]\n",
            "  [ 8  9 10 11]]\n",
            "\n",
            " [[12 13 14 15]\n",
            "  [16 17 18 19]\n",
            "  [20 21 22 23]]] \n",
            "--------------------------\n",
            "\n",
            "Vector b = \n",
            " [ 0  1  2  3  4  5  6  7  8  9 10 11 12 13 14 15 16 17 18 19 20 21 22 23]\n"
          ],
          "name": "stdout"
        }
      ]
    },
    {
      "cell_type": "code",
      "metadata": {
        "id": "3uWEX5yrUd2b",
        "colab_type": "code",
        "colab": {
          "base_uri": "https://localhost:8080/",
          "height": 50
        },
        "outputId": "a89d1bca-c72f-44e6-a30a-82cf9c329e17"
      },
      "source": [
        "# La instrucción: flatten() es similar a ravel()\n",
        "\n",
        "# La diferencia es que flatten genera un nuevo espacio de memoria\n",
        "print('Vector b con flatten =\\n', b.flatten())"
      ],
      "execution_count": 22,
      "outputs": [
        {
          "output_type": "stream",
          "text": [
            "Vector b con flatten =\n",
            " [ 0  1  2  3  4  5  6  7  8  9 10 11 12 13 14 15 16 17 18 19 20 21 22 23]\n"
          ],
          "name": "stdout"
        }
      ]
    },
    {
      "cell_type": "code",
      "metadata": {
        "id": "0HlDIbFIUgQQ",
        "colab_type": "code",
        "colab": {
          "base_uri": "https://localhost:8080/",
          "height": 131
        },
        "outputId": "7a5f58c4-a14e-4344-b74a-751739f39c1e"
      },
      "source": [
        "# Se puede cambiar la estructura de una matriz con la instrucción: shape\n",
        "\n",
        "# Transformamos la matriz en 6 filas x 4 columnas\n",
        "b.shape = (6,4)\n",
        "print('b(6x4) =\\n', b)"
      ],
      "execution_count": 23,
      "outputs": [
        {
          "output_type": "stream",
          "text": [
            "b(6x4) =\n",
            " [[ 0  1  2  3]\n",
            " [ 4  5  6  7]\n",
            " [ 8  9 10 11]\n",
            " [12 13 14 15]\n",
            " [16 17 18 19]\n",
            " [20 21 22 23]]\n"
          ],
          "name": "stdout"
        }
      ]
    },
    {
      "cell_type": "code",
      "metadata": {
        "id": "9m9qOE5UUiYQ",
        "colab_type": "code",
        "colab": {
          "base_uri": "https://localhost:8080/",
          "height": 277
        },
        "outputId": "3a88428f-9c95-42ef-eb51-9750429b882c"
      },
      "source": [
        "# A partir de la matriz que acaba de ser generada, vamos a mostrar\n",
        "\n",
        "# como se construye la transpuesta de la matriz\n",
        "# Matriz original\n",
        "print('b =\\n', b, '\\n------------------------\\n')\n",
        "# Matri transpuesta\n",
        "print('Transpuesta de b =\\n', b.transpose(), '\\n------------------------\\n')"
      ],
      "execution_count": 24,
      "outputs": [
        {
          "output_type": "stream",
          "text": [
            "b =\n",
            " [[ 0  1  2  3]\n",
            " [ 4  5  6  7]\n",
            " [ 8  9 10 11]\n",
            " [12 13 14 15]\n",
            " [16 17 18 19]\n",
            " [20 21 22 23]] \n",
            "------------------------\n",
            "\n",
            "Transpuesta de b =\n",
            " [[ 0  4  8 12 16 20]\n",
            " [ 1  5  9 13 17 21]\n",
            " [ 2  6 10 14 18 22]\n",
            " [ 3  7 11 15 19 23]] \n",
            "------------------------\n",
            "\n"
          ],
          "name": "stdout"
        }
      ]
    },
    {
      "cell_type": "code",
      "metadata": {
        "id": "ag4bAyQeUkVP",
        "colab_type": "code",
        "colab": {
          "base_uri": "https://localhost:8080/",
          "height": 66
        },
        "outputId": "cdd4844c-fdc0-4401-e76f-49ffc1bf1e1d"
      },
      "source": [
        "b.resize([2,12])\n",
        "# Al imprimir el array b, se observa que su estructura ha cambiado\n",
        "print('b =\\n', b)"
      ],
      "execution_count": 25,
      "outputs": [
        {
          "output_type": "stream",
          "text": [
            "b =\n",
            " [[ 0  1  2  3  4  5  6  7  8  9 10 11]\n",
            " [12 13 14 15 16 17 18 19 20 21 22 23]]\n"
          ],
          "name": "stdout"
        }
      ]
    }
  ]
}