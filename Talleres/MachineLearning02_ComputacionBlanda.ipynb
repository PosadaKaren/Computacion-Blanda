{
  "nbformat": 4,
  "nbformat_minor": 0,
  "metadata": {
    "colab": {
      "name": "MachineLearning02-ComputacionBlanda.ipynb",
      "provenance": []
    },
    "kernelspec": {
      "name": "python3",
      "display_name": "Python 3"
    }
  },
  "cells": [
    {
      "cell_type": "code",
      "metadata": {
        "id": "Q8XP3V6Z6iQl",
        "colab_type": "code",
        "colab": {}
      },
      "source": [
        "# Se importa la librería numpy\n",
        "\n",
        "import numpy as np"
      ],
      "execution_count": 2,
      "outputs": []
    },
    {
      "cell_type": "code",
      "metadata": {
        "id": "6ug21i7BirVc",
        "colab_type": "code",
        "colab": {
          "base_uri": "https://localhost:8080/",
          "height": 163
        },
        "outputId": "fb56e52c-2714-430a-eff7-913ada7d31aa"
      },
      "source": [
        "#Apilamiento\n",
        "\n",
        "a = np.arange(9).reshape(3,3)\n",
        "print('a =\\n', a, '\\n')\n",
        "\n",
        "# Matriz b, creada a partir de la matriz a\n",
        "b = a*2\n",
        "print('b =\\n', b)"
      ],
      "execution_count": 3,
      "outputs": [
        {
          "output_type": "stream",
          "text": [
            "a =\n",
            " [[0 1 2]\n",
            " [3 4 5]\n",
            " [6 7 8]] \n",
            "\n",
            "b =\n",
            " [[ 0  2  4]\n",
            " [ 6  8 10]\n",
            " [12 14 16]]\n"
          ],
          "name": "stdout"
        }
      ]
    },
    {
      "cell_type": "code",
      "metadata": {
        "id": "UWEaZ6bg7Pf3",
        "colab_type": "code",
        "colab": {
          "base_uri": "https://localhost:8080/",
          "height": 245
        },
        "outputId": "91c8701e-300e-48ae-a1c4-6e7bbc5dc5ba"
      },
      "source": [
        "# APILAMIENTO HORIZONTAL - Variante\n",
        "\n",
        "# Matrices origen\n",
        "print('a =\\n', a, '\\n')\n",
        "print('b =\\n', b, '\\n')\n",
        "\n",
        "# Apilamiento horizontal\n",
        "print( 'Apilamiento horizontal con concatenate = \\n',\n",
        "np.concatenate((a,b), axis=1) )\n",
        "# Si axis=1, el apilamiento es horizontal"
      ],
      "execution_count": 4,
      "outputs": [
        {
          "output_type": "stream",
          "text": [
            "a =\n",
            " [[0 1 2]\n",
            " [3 4 5]\n",
            " [6 7 8]] \n",
            "\n",
            "b =\n",
            " [[ 0  2  4]\n",
            " [ 6  8 10]\n",
            " [12 14 16]] \n",
            "\n",
            "Apilamiento horizontal con concatenate = \n",
            " [[ 0  1  2  0  2  4]\n",
            " [ 3  4  5  6  8 10]\n",
            " [ 6  7  8 12 14 16]]\n"
          ],
          "name": "stdout"
        }
      ]
    },
    {
      "cell_type": "code",
      "metadata": {
        "id": "HEyJdvjq7VLJ",
        "colab_type": "code",
        "colab": {
          "base_uri": "https://localhost:8080/",
          "height": 293
        },
        "outputId": "fd89b3b1-21d8-45d3-9aae-eb3e904e7f8a"
      },
      "source": [
        "# APILAMIENTO VERTICAL\n",
        "\n",
        "# Matrices origen\n",
        "print('a =\\n', a, '\\n')\n",
        "print('b =\\n', b, '\\n')\n",
        "\n",
        "# Apilamiento vertical\n",
        "print( 'Apilamiento vertical =\\n', np.vstack((a,b)) )"
      ],
      "execution_count": 5,
      "outputs": [
        {
          "output_type": "stream",
          "text": [
            "a =\n",
            " [[0 1 2]\n",
            " [3 4 5]\n",
            " [6 7 8]] \n",
            "\n",
            "b =\n",
            " [[ 0  2  4]\n",
            " [ 6  8 10]\n",
            " [12 14 16]] \n",
            "\n",
            "Apilamiento vertical =\n",
            " [[ 0  1  2]\n",
            " [ 3  4  5]\n",
            " [ 6  7  8]\n",
            " [ 0  2  4]\n",
            " [ 6  8 10]\n",
            " [12 14 16]]\n"
          ],
          "name": "stdout"
        }
      ]
    },
    {
      "cell_type": "code",
      "metadata": {
        "id": "Tl_aDLP47bxT",
        "colab_type": "code",
        "colab": {
          "base_uri": "https://localhost:8080/",
          "height": 293
        },
        "outputId": "25928a9f-36d2-4ab0-84d6-94d0ff3a2ede"
      },
      "source": [
        "# APILAMIENTO VERTICAL - Variante\n",
        "\n",
        "# Matrices origen\n",
        "print('a =\\n', a, '\\n')\n",
        "print('b =\\n', b, '\\n')\n",
        "\n",
        "# Apilamiento vertical\n",
        "print( 'Apilamiento vertical con concatenate =\\n',\n",
        "np.concatenate((a,b), axis=0) )\n",
        "# Si axis=0, el apilamiento es vertical"
      ],
      "execution_count": 6,
      "outputs": [
        {
          "output_type": "stream",
          "text": [
            "a =\n",
            " [[0 1 2]\n",
            " [3 4 5]\n",
            " [6 7 8]] \n",
            "\n",
            "b =\n",
            " [[ 0  2  4]\n",
            " [ 6  8 10]\n",
            " [12 14 16]] \n",
            "\n",
            "Apilamiento vertical con concatenate =\n",
            " [[ 0  1  2]\n",
            " [ 3  4  5]\n",
            " [ 6  7  8]\n",
            " [ 0  2  4]\n",
            " [ 6  8 10]\n",
            " [12 14 16]]\n"
          ],
          "name": "stdout"
        }
      ]
    },
    {
      "cell_type": "code",
      "metadata": {
        "id": "6DF3yrvW7j-J",
        "colab_type": "code",
        "colab": {
          "base_uri": "https://localhost:8080/",
          "height": 293
        },
        "outputId": "e8be3130-bafa-4eb4-858b-812c81227275"
      },
      "source": [
        "# APILAMIENTO VERTICAL - Variante\n",
        "\n",
        "# Matrices origen\n",
        "print('a =\\n', a, '\\n')\n",
        "print('b =\\n', b, '\\n')\n",
        "\n",
        "# Apilamiento vertical\n",
        "print( 'Apilamiento vertical con concatenate =\\n',\n",
        "np.concatenate((a,b), axis=0) )\n",
        "# Si axis=0, el apilamiento es vertical"
      ],
      "execution_count": 7,
      "outputs": [
        {
          "output_type": "stream",
          "text": [
            "a =\n",
            " [[0 1 2]\n",
            " [3 4 5]\n",
            " [6 7 8]] \n",
            "\n",
            "b =\n",
            " [[ 0  2  4]\n",
            " [ 6  8 10]\n",
            " [12 14 16]] \n",
            "\n",
            "Apilamiento vertical con concatenate =\n",
            " [[ 0  1  2]\n",
            " [ 3  4  5]\n",
            " [ 6  7  8]\n",
            " [ 0  2  4]\n",
            " [ 6  8 10]\n",
            " [12 14 16]]\n"
          ],
          "name": "stdout"
        }
      ]
    },
    {
      "cell_type": "code",
      "metadata": {
        "id": "FsDE7e9F7nog",
        "colab_type": "code",
        "colab": {
          "base_uri": "https://localhost:8080/",
          "height": 245
        },
        "outputId": "2a094ba6-df47-40e5-85eb-db366683d08f"
      },
      "source": [
        "# APILAMIENTO POR COLUMNAS\n",
        "\n",
        "\n",
        "# Matrices origen\n",
        "print('a =\\n', a, '\\n')\n",
        "print('b =\\n', b, '\\n')\n",
        "\n",
        "# Apilamiento vertical\n",
        "print( 'Apilamiento por columnas =\\n',\n",
        "np.column_stack((a,b)) )"
      ],
      "execution_count": 8,
      "outputs": [
        {
          "output_type": "stream",
          "text": [
            "a =\n",
            " [[0 1 2]\n",
            " [3 4 5]\n",
            " [6 7 8]] \n",
            "\n",
            "b =\n",
            " [[ 0  2  4]\n",
            " [ 6  8 10]\n",
            " [12 14 16]] \n",
            "\n",
            "Apilamiento por columnas =\n",
            " [[ 0  1  2  0  2  4]\n",
            " [ 3  4  5  6  8 10]\n",
            " [ 6  7  8 12 14 16]]\n"
          ],
          "name": "stdout"
        }
      ]
    },
    {
      "cell_type": "code",
      "metadata": {
        "id": "h_7wN_-d7qSx",
        "colab_type": "code",
        "colab": {
          "base_uri": "https://localhost:8080/",
          "height": 293
        },
        "outputId": "7752495e-d504-40ff-e8b8-7f46c689be5a"
      },
      "source": [
        "# APILAMIENTO POR FILAS\n",
        "\n",
        "# Matrices origen\n",
        "print('a =\\n', a, '\\n')\n",
        "print('b =\\n', b, '\\n')\n",
        "\n",
        "# Apilamiento vertical\n",
        "print( 'Apilamiento por filas =\\n',\n",
        "np.row_stack((a,b)) )"
      ],
      "execution_count": 9,
      "outputs": [
        {
          "output_type": "stream",
          "text": [
            "a =\n",
            " [[0 1 2]\n",
            " [3 4 5]\n",
            " [6 7 8]] \n",
            "\n",
            "b =\n",
            " [[ 0  2  4]\n",
            " [ 6  8 10]\n",
            " [12 14 16]] \n",
            "\n",
            "Apilamiento por filas =\n",
            " [[ 0  1  2]\n",
            " [ 3  4  5]\n",
            " [ 6  7  8]\n",
            " [ 0  2  4]\n",
            " [ 6  8 10]\n",
            " [12 14 16]]\n"
          ],
          "name": "stdout"
        }
      ]
    },
    {
      "cell_type": "code",
      "metadata": {
        "id": "8XXiJbmV7t4R",
        "colab_type": "code",
        "colab": {
          "base_uri": "https://localhost:8080/",
          "height": 358
        },
        "outputId": "7b1a7113-bba5-46b9-cc7a-ecf63f16ed50"
      },
      "source": [
        "# DIVISIÓN HORIZONTAL\n",
        "print(\"a=\",a, '\\n')\n",
        "\n",
        "# El código resultante divide una matriz a lo largo de su eje horizontal\n",
        "# en tres piezas del mismo tamaño y forma:}\n",
        "print('Array con división horizontal =\\n', np.hsplit(a, 3), '\\n')\n",
        "\n",
        "# El mismo efecto se consigue con split() y utilizando una bandera a 1\n",
        "print('Array con división horizontal, uso de split() =\\n',\n",
        "np.split(a, 3, axis=1))"
      ],
      "execution_count": 12,
      "outputs": [
        {
          "output_type": "stream",
          "text": [
            "a= [[0 1 2]\n",
            " [3 4 5]\n",
            " [6 7 8]] \n",
            "\n",
            "Array con división horizontal =\n",
            " [array([[0],\n",
            "       [3],\n",
            "       [6]]), array([[1],\n",
            "       [4],\n",
            "       [7]]), array([[2],\n",
            "       [5],\n",
            "       [8]])] \n",
            "\n",
            "Array con división horizontal, uso de split() =\n",
            " [array([[0],\n",
            "       [3],\n",
            "       [6]]), array([[1],\n",
            "       [4],\n",
            "       [7]]), array([[2],\n",
            "       [5],\n",
            "       [8]])]\n"
          ],
          "name": "stdout"
        }
      ]
    },
    {
      "cell_type": "code",
      "metadata": {
        "id": "FAzpUGdJ71tx",
        "colab_type": "code",
        "colab": {
          "base_uri": "https://localhost:8080/",
          "height": 748
        },
        "outputId": "1937238d-e345-4906-b71e-b5d1de877e0a"
      },
      "source": [
        "# DIVISIÓN EN PROFUNDIDAD\n",
        "\n",
        "c = np.arange(27).reshape(3, 3, 3)\n",
        "print(c, '\\n')\n",
        "\n",
        "# Se realiza la división\n",
        "print('División en profundidad =\\n', np.dsplit(c,3), '\\n')"
      ],
      "execution_count": 13,
      "outputs": [
        {
          "output_type": "stream",
          "text": [
            "[[[ 0  1  2]\n",
            "  [ 3  4  5]\n",
            "  [ 6  7  8]]\n",
            "\n",
            " [[ 9 10 11]\n",
            "  [12 13 14]\n",
            "  [15 16 17]]\n",
            "\n",
            " [[18 19 20]\n",
            "  [21 22 23]\n",
            "  [24 25 26]]] \n",
            "\n",
            "División en profundidad =\n",
            " [array([[[ 0],\n",
            "        [ 3],\n",
            "        [ 6]],\n",
            "\n",
            "       [[ 9],\n",
            "        [12],\n",
            "        [15]],\n",
            "\n",
            "       [[18],\n",
            "        [21],\n",
            "        [24]]]), array([[[ 1],\n",
            "        [ 4],\n",
            "        [ 7]],\n",
            "\n",
            "       [[10],\n",
            "        [13],\n",
            "        [16]],\n",
            "\n",
            "       [[19],\n",
            "        [22],\n",
            "        [25]]]), array([[[ 2],\n",
            "        [ 5],\n",
            "        [ 8]],\n",
            "\n",
            "       [[11],\n",
            "        [14],\n",
            "        [17]],\n",
            "\n",
            "       [[20],\n",
            "        [23],\n",
            "        [26]]])] \n",
            "\n"
          ],
          "name": "stdout"
        }
      ]
    },
    {
      "cell_type": "code",
      "metadata": {
        "id": "CZMpOHDP7-i0",
        "colab_type": "code",
        "colab": {
          "base_uri": "https://localhost:8080/",
          "height": 98
        },
        "outputId": "7ec6abc2-6df2-44ee-9da2-7bd023885c39"
      },
      "source": [
        "# El atributo ndim calcula el número de dimensiones\n",
        "\n",
        "print(b, '\\n')\n",
        "print('ndim: ', b.ndim)"
      ],
      "execution_count": 14,
      "outputs": [
        {
          "output_type": "stream",
          "text": [
            "[[ 0  2  4]\n",
            " [ 6  8 10]\n",
            " [12 14 16]] \n",
            "\n",
            "ndim:  2\n"
          ],
          "name": "stdout"
        }
      ]
    },
    {
      "cell_type": "code",
      "metadata": {
        "id": "bqBfgjQE8GaQ",
        "colab_type": "code",
        "colab": {
          "base_uri": "https://localhost:8080/",
          "height": 98
        },
        "outputId": "7b2b2c52-a2bb-4bf7-c54f-09b50761b3f3"
      },
      "source": [
        "# El atributo ndim calcula el número de dimensiones\n",
        "\n",
        "print(b, '\\n')\n",
        "print('ndim: ', b.ndim)"
      ],
      "execution_count": 15,
      "outputs": [
        {
          "output_type": "stream",
          "text": [
            "[[ 0  2  4]\n",
            " [ 6  8 10]\n",
            " [12 14 16]] \n",
            "\n",
            "ndim:  2\n"
          ],
          "name": "stdout"
        }
      ]
    },
    {
      "cell_type": "code",
      "metadata": {
        "id": "FbKf3izP8IPj",
        "colab_type": "code",
        "colab": {
          "base_uri": "https://localhost:8080/",
          "height": 33
        },
        "outputId": "c0844256-bf6d-45da-8180-e096f7e77fbe"
      },
      "source": [
        "# El atributo itemsize obtiene el número de bytes por cada\n",
        "\n",
        "# elemento en el array\n",
        "print('itemsize: ', b.itemsize)"
      ],
      "execution_count": 16,
      "outputs": [
        {
          "output_type": "stream",
          "text": [
            "itemsize:  8\n"
          ],
          "name": "stdout"
        }
      ]
    },
    {
      "cell_type": "code",
      "metadata": {
        "id": "udDlxMuL8Nto",
        "colab_type": "code",
        "colab": {
          "base_uri": "https://localhost:8080/",
          "height": 131
        },
        "outputId": "9cb8e561-17aa-41ee-d9c2-081f20093f0c"
      },
      "source": [
        "# El atributo nbytes calcula el número total de bytes del array\n",
        "\n",
        "print(b, '\\n')\n",
        "print('nbytes: ', b.nbytes, '\\n')\n",
        "# Es equivalente a la siguiente operación\n",
        "print('nbytes equivalente: ', b.size * b.itemsize)"
      ],
      "execution_count": 17,
      "outputs": [
        {
          "output_type": "stream",
          "text": [
            "[[ 0  2  4]\n",
            " [ 6  8 10]\n",
            " [12 14 16]] \n",
            "\n",
            "nbytes:  72 \n",
            "\n",
            "nbytes equivalente:  72\n"
          ],
          "name": "stdout"
        }
      ]
    },
    {
      "cell_type": "code",
      "metadata": {
        "id": "bbWRLrTm8RJm",
        "colab_type": "code",
        "colab": {
          "base_uri": "https://localhost:8080/",
          "height": 196
        },
        "outputId": "e4982d55-4501-4605-94c5-7002710cf368"
      },
      "source": [
        "# El atributo T tiene el mismo efecto que la transpuesta de la matriz\n",
        "\n",
        "b.resize(6,4)\n",
        "print(b, '\\n')\n",
        "print('Transpuesta: ', b.T)"
      ],
      "execution_count": 18,
      "outputs": [
        {
          "output_type": "stream",
          "text": [
            "[[ 0  2  4  6]\n",
            " [ 8 10 12 14]\n",
            " [16  0  0  0]\n",
            " [ 0  0  0  0]\n",
            " [ 0  0  0  0]\n",
            " [ 0  0  0  0]] \n",
            "\n",
            "Transpuesta:  [[ 0  8 16  0  0  0]\n",
            " [ 2 10  0  0  0  0]\n",
            " [ 4 12  0  0  0  0]\n",
            " [ 6 14  0  0  0  0]]\n"
          ],
          "name": "stdout"
        }
      ]
    },
    {
      "cell_type": "code",
      "metadata": {
        "id": "z6o6Yr1Q8T1g",
        "colab_type": "code",
        "colab": {
          "base_uri": "https://localhost:8080/",
          "height": 50
        },
        "outputId": "c5e1b264-4664-4295-c90a-76fe33dc4638"
      },
      "source": [
        "# Los números complejos en numpy se representan con j\n",
        "\n",
        "b = np.array([1.j + 1, 2.j + 3])\n",
        "print('Complejo: \\n', b)"
      ],
      "execution_count": 19,
      "outputs": [
        {
          "output_type": "stream",
          "text": [
            "Complejo: \n",
            " [1.+1.j 3.+2.j]\n"
          ],
          "name": "stdout"
        }
      ]
    },
    {
      "cell_type": "code",
      "metadata": {
        "id": "eHHEIWDr8WtY",
        "colab_type": "code",
        "colab": {
          "base_uri": "https://localhost:8080/",
          "height": 66
        },
        "outputId": "778810f4-da5c-458c-e9d5-aa3917012b17"
      },
      "source": [
        "# El atributo real nos da la parte real del array,\n",
        "# o el array en sí mismo si solo contiene números reales\n",
        "print('real: ', b.real, '\\n')\n",
        "\n",
        "# El atributo imag contiene la parte imaginaria del array\n",
        "print('imaginario: ', b.imag)"
      ],
      "execution_count": 20,
      "outputs": [
        {
          "output_type": "stream",
          "text": [
            "real:  [1. 3.] \n",
            "\n",
            "imaginario:  [1. 2.]\n"
          ],
          "name": "stdout"
        }
      ]
    },
    {
      "cell_type": "code",
      "metadata": {
        "id": "fuu57vqr8YSC",
        "colab_type": "code",
        "colab": {
          "base_uri": "https://localhost:8080/",
          "height": 33
        },
        "outputId": "74127be3-c5ce-4ddd-fc59-2275295337d1"
      },
      "source": [
        "# Si el array contiene números complejos, entonces el tipo de datos\n",
        "\n",
        "# se convierte automáticamente a complejo\n",
        "print(b.dtype)"
      ],
      "execution_count": 21,
      "outputs": [
        {
          "output_type": "stream",
          "text": [
            "complex128\n"
          ],
          "name": "stdout"
        }
      ]
    },
    {
      "cell_type": "code",
      "metadata": {
        "id": "KaGYqhr48bIr",
        "colab_type": "code",
        "colab": {
          "base_uri": "https://localhost:8080/",
          "height": 310
        },
        "outputId": "ca0f9a59-70e2-4c80-a287-92603d553149"
      },
      "source": [
        "# El atributo flat devuelve un objeto numpy.flatiter.\n",
        "# Esta es la única forma de adquirir un flatiter:\n",
        "# no tenemos acceso a un constructor de flatiter.\n",
        "# El apartamento El iterador nos permite recorrer una matriz\n",
        "# como si fuera una matriz plana, como se muestra a continuación:\n",
        "# En el siguiente ejemplo se clarifica este concepto\n",
        "b = np.arange(4).reshape(2,2)\n",
        "print(b, '\\n')\n",
        "f = b.flat\n",
        "print(f, '\\n')\n",
        "\n",
        "# Ciclo que itera a lo largo de f\n",
        "for item in f: print (item)\n",
        "\n",
        "# Selección de un elemento\n",
        "print('\\n')\n",
        "print('Elemento 2: ', b.flat[2])\n",
        "\n",
        "# Operaciones directas con flat\n",
        "b.flat = 7\n",
        "print(b, '\\n')\n",
        "b.flat[[1,3]] = 1\n",
        "print(b, '\\n')"
      ],
      "execution_count": 22,
      "outputs": [
        {
          "output_type": "stream",
          "text": [
            "[[0 1]\n",
            " [2 3]] \n",
            "\n",
            "<numpy.flatiter object at 0x31bcb00> \n",
            "\n",
            "0\n",
            "1\n",
            "2\n",
            "3\n",
            "\n",
            "\n",
            "Elemento 2:  2\n",
            "[[7 7]\n",
            " [7 7]] \n",
            "\n",
            "[[7 1]\n",
            " [7 1]] \n",
            "\n"
          ],
          "name": "stdout"
        }
      ]
    }
  ]
}